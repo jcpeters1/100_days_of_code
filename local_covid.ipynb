{
 "cells": [
  {
   "cell_type": "code",
   "execution_count": 2,
   "metadata": {},
   "outputs": [],
   "source": [
    "import pandas as pd\n",
    "import numpy as np\n",
    "import matplotlib.pyplot as plt"
   ]
  },
  {
   "cell_type": "code",
   "execution_count": 3,
   "metadata": {},
   "outputs": [],
   "source": [
    "us_covid = pd.read_csv('../johnshopkins/covid-19/csse_covid_19_data/csse_covid_19_time_series/time_series_covid19_confirmed_US.csv')\n",
    "us_mobility = pd.read_csv('data/2020_US_Region_Mobility_Report.csv')"
   ]
  },
  {
   "cell_type": "code",
   "execution_count": 52,
   "metadata": {},
   "outputs": [
    {
     "data": {
      "text/html": [
       "<div>\n",
       "<style scoped>\n",
       "    .dataframe tbody tr th:only-of-type {\n",
       "        vertical-align: middle;\n",
       "    }\n",
       "\n",
       "    .dataframe tbody tr th {\n",
       "        vertical-align: top;\n",
       "    }\n",
       "\n",
       "    .dataframe thead th {\n",
       "        text-align: right;\n",
       "    }\n",
       "</style>\n",
       "<table border=\"1\" class=\"dataframe\">\n",
       "  <thead>\n",
       "    <tr style=\"text-align: right;\">\n",
       "      <th></th>\n",
       "      <th>country_region_code</th>\n",
       "      <th>country_region</th>\n",
       "      <th>sub_region_1</th>\n",
       "      <th>sub_region_2</th>\n",
       "      <th>metro_area</th>\n",
       "      <th>iso_3166_2_code</th>\n",
       "      <th>census_fips_code</th>\n",
       "      <th>date</th>\n",
       "      <th>retail_and_recreation_percent_change_from_baseline</th>\n",
       "      <th>grocery_and_pharmacy_percent_change_from_baseline</th>\n",
       "      <th>parks_percent_change_from_baseline</th>\n",
       "      <th>transit_stations_percent_change_from_baseline</th>\n",
       "      <th>workplaces_percent_change_from_baseline</th>\n",
       "      <th>residential_percent_change_from_baseline</th>\n",
       "    </tr>\n",
       "  </thead>\n",
       "  <tbody>\n",
       "    <tr>\n",
       "      <td>21909</td>\n",
       "      <td>US</td>\n",
       "      <td>United States</td>\n",
       "      <td>Arizona</td>\n",
       "      <td>Maricopa County</td>\n",
       "      <td>NaN</td>\n",
       "      <td>NaN</td>\n",
       "      <td>4013.0</td>\n",
       "      <td>2020-02-15</td>\n",
       "      <td>2.0</td>\n",
       "      <td>0.0</td>\n",
       "      <td>11.0</td>\n",
       "      <td>1.0</td>\n",
       "      <td>-1.0</td>\n",
       "      <td>0.0</td>\n",
       "    </tr>\n",
       "    <tr>\n",
       "      <td>21910</td>\n",
       "      <td>US</td>\n",
       "      <td>United States</td>\n",
       "      <td>Arizona</td>\n",
       "      <td>Maricopa County</td>\n",
       "      <td>NaN</td>\n",
       "      <td>NaN</td>\n",
       "      <td>4013.0</td>\n",
       "      <td>2020-02-16</td>\n",
       "      <td>5.0</td>\n",
       "      <td>1.0</td>\n",
       "      <td>23.0</td>\n",
       "      <td>1.0</td>\n",
       "      <td>0.0</td>\n",
       "      <td>-1.0</td>\n",
       "    </tr>\n",
       "    <tr>\n",
       "      <td>21911</td>\n",
       "      <td>US</td>\n",
       "      <td>United States</td>\n",
       "      <td>Arizona</td>\n",
       "      <td>Maricopa County</td>\n",
       "      <td>NaN</td>\n",
       "      <td>NaN</td>\n",
       "      <td>4013.0</td>\n",
       "      <td>2020-02-17</td>\n",
       "      <td>9.0</td>\n",
       "      <td>0.0</td>\n",
       "      <td>38.0</td>\n",
       "      <td>-2.0</td>\n",
       "      <td>-28.0</td>\n",
       "      <td>5.0</td>\n",
       "    </tr>\n",
       "    <tr>\n",
       "      <td>21912</td>\n",
       "      <td>US</td>\n",
       "      <td>United States</td>\n",
       "      <td>Arizona</td>\n",
       "      <td>Maricopa County</td>\n",
       "      <td>NaN</td>\n",
       "      <td>NaN</td>\n",
       "      <td>4013.0</td>\n",
       "      <td>2020-02-18</td>\n",
       "      <td>1.0</td>\n",
       "      <td>1.0</td>\n",
       "      <td>11.0</td>\n",
       "      <td>8.0</td>\n",
       "      <td>1.0</td>\n",
       "      <td>0.0</td>\n",
       "    </tr>\n",
       "    <tr>\n",
       "      <td>21913</td>\n",
       "      <td>US</td>\n",
       "      <td>United States</td>\n",
       "      <td>Arizona</td>\n",
       "      <td>Maricopa County</td>\n",
       "      <td>NaN</td>\n",
       "      <td>NaN</td>\n",
       "      <td>4013.0</td>\n",
       "      <td>2020-02-19</td>\n",
       "      <td>4.0</td>\n",
       "      <td>0.0</td>\n",
       "      <td>11.0</td>\n",
       "      <td>7.0</td>\n",
       "      <td>1.0</td>\n",
       "      <td>0.0</td>\n",
       "    </tr>\n",
       "  </tbody>\n",
       "</table>\n",
       "</div>"
      ],
      "text/plain": [
       "      country_region_code country_region sub_region_1     sub_region_2  \\\n",
       "21909                  US  United States      Arizona  Maricopa County   \n",
       "21910                  US  United States      Arizona  Maricopa County   \n",
       "21911                  US  United States      Arizona  Maricopa County   \n",
       "21912                  US  United States      Arizona  Maricopa County   \n",
       "21913                  US  United States      Arizona  Maricopa County   \n",
       "\n",
       "       metro_area iso_3166_2_code  census_fips_code        date  \\\n",
       "21909         NaN             NaN            4013.0  2020-02-15   \n",
       "21910         NaN             NaN            4013.0  2020-02-16   \n",
       "21911         NaN             NaN            4013.0  2020-02-17   \n",
       "21912         NaN             NaN            4013.0  2020-02-18   \n",
       "21913         NaN             NaN            4013.0  2020-02-19   \n",
       "\n",
       "       retail_and_recreation_percent_change_from_baseline  \\\n",
       "21909                                                2.0    \n",
       "21910                                                5.0    \n",
       "21911                                                9.0    \n",
       "21912                                                1.0    \n",
       "21913                                                4.0    \n",
       "\n",
       "       grocery_and_pharmacy_percent_change_from_baseline  \\\n",
       "21909                                                0.0   \n",
       "21910                                                1.0   \n",
       "21911                                                0.0   \n",
       "21912                                                1.0   \n",
       "21913                                                0.0   \n",
       "\n",
       "       parks_percent_change_from_baseline  \\\n",
       "21909                                11.0   \n",
       "21910                                23.0   \n",
       "21911                                38.0   \n",
       "21912                                11.0   \n",
       "21913                                11.0   \n",
       "\n",
       "       transit_stations_percent_change_from_baseline  \\\n",
       "21909                                            1.0   \n",
       "21910                                            1.0   \n",
       "21911                                           -2.0   \n",
       "21912                                            8.0   \n",
       "21913                                            7.0   \n",
       "\n",
       "       workplaces_percent_change_from_baseline  \\\n",
       "21909                                     -1.0   \n",
       "21910                                      0.0   \n",
       "21911                                    -28.0   \n",
       "21912                                      1.0   \n",
       "21913                                      1.0   \n",
       "\n",
       "       residential_percent_change_from_baseline  \n",
       "21909                                       0.0  \n",
       "21910                                      -1.0  \n",
       "21911                                       5.0  \n",
       "21912                                       0.0  \n",
       "21913                                       0.0  "
      ]
     },
     "execution_count": 52,
     "metadata": {},
     "output_type": "execute_result"
    }
   ],
   "source": [
    "maricopa_covid = us_covid.loc[(us_covid['Admin2'] == 'Maricopa')]\n",
    "maricopa_mobility = us_mobility.loc[us_mobility['sub_region_2'] == 'Maricopa County']\n",
    "maricopa_covid = maricopa_covid.T.reset_index()\n",
    "maricopa_mobility.head()"
   ]
  },
  {
   "cell_type": "code",
   "execution_count": 44,
   "metadata": {},
   "outputs": [
    {
     "name": "stdout",
     "output_type": "stream",
     "text": [
      "1/23/20\n"
     ]
    },
    {
     "data": {
      "text/plain": [
       "Text(0.5, 1.0, 'Confirmed Cases Time Series')"
      ]
     },
     "execution_count": 44,
     "metadata": {},
     "output_type": "execute_result"
    },
    {
     "data": {
      "image/png": "[encoded data removed]",
      "text/plain": [
       "<Figure size 432x288 with 1 Axes>"
      ]
     },
     "metadata": {
      "needs_background": "light"
     },
     "output_type": "display_data"
    }
   ],
   "source": [
    "plot_date = maricopa_covid.loc[11:]\n",
    "date = maricopa_covid['index'].loc[12:].tolist()\n",
    "cases = plot_date[108].tolist()\n",
    "\n",
    "daily = []\n",
    "for i in range(len(cases)-1):\n",
    "    change = 0\n",
    "    change = cases[i+1] - cases[i]\n",
    "    daily.append(change)\n",
    "    i += 1\n",
    "    \n",
    "plt.plot(date, daily)\n",
    "plt.xlabel(\"Date\")\n",
    "plt.ylabel(\"Confirmed Cases\")\n",
    "plt.title(\"Confirmed Cases Time Series\")"
   ]
  },
  {
   "cell_type": "code",
   "execution_count": 57,
   "metadata": {},
   "outputs": [
    {
     "data": {
      "text/plain": [
       "Text(0.5, 1.0, 'Confirmed Cases Time Series')"
      ]
     },
     "execution_count": 57,
     "metadata": {},
     "output_type": "execute_result"
    },
    {
     "data": {
      "image/png": "[encoded data removed]",
      "text/plain": [
       "<Figure size 432x288 with 1 Axes>"
      ]
     },
     "metadata": {
      "needs_background": "light"
     },
     "output_type": "display_data"
    }
   ],
   "source": [
    "date = maricopa_mobility['date']\n",
    "retail = maricopa_mobility['retail_and_recreation_percent_change_from_baseline']\n",
    "\n",
    "plt.plot(date, retail)\n",
    "plt.xlabel(\"Date\")\n",
    "plt.ylabel(\"Change from baseline\")\n",
    "plt.title(\"Confirmed Cases Time Series\")"
   ]
  },
  {
   "cell_type": "code",
   "execution_count": null,
   "metadata": {},
   "outputs": [],
   "source": []
  }
 ],
 "metadata": {
  "kernelspec": {
   "display_name": "Python 3",
   "language": "python",
   "name": "python3"
  },
  "language_info": {
   "codemirror_mode": {
    "name": "ipython",
    "version": 3
   },
   "file_extension": ".py",
   "mimetype": "text/x-python",
   "name": "python",
   "nbconvert_exporter": "python",
   "pygments_lexer": "ipython3",
   "version": "3.7.4"
  }
 },
 "nbformat": 4,
 "nbformat_minor": 2
}
